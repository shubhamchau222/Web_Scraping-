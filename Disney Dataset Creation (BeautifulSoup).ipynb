{
 "cells": [
  {
   "cell_type": "markdown",
   "metadata": {},
   "source": [
    "**import necessary libraries**"
   ]
  },
  {
   "cell_type": "code",
   "execution_count": null,
   "metadata": {},
   "outputs": [],
   "source": [
    "import requests\n",
    "from bs4 import BeautifulSoup as bs"
   ]
  },
  {
   "cell_type": "markdown",
   "metadata": {},
   "source": [
    "#### Load the webpage "
   ]
  },
  {
   "cell_type": "code",
   "execution_count": 39,
   "metadata": {},
   "outputs": [],
   "source": [
    "url = \"https://en.wikipedia.org/wiki/Toy_Story_3\"\n",
    "r=requests.get(url)\n",
    "#create the beautifulsoup object \n",
    "soup = bs(r.content)"
   ]
  },
  {
   "cell_type": "code",
   "execution_count": 40,
   "metadata": {},
   "outputs": [],
   "source": [
    "#see the html page \n",
    "# print(soup.prettify())"
   ]
  },
  {
   "cell_type": "code",
   "execution_count": 41,
   "metadata": {},
   "outputs": [],
   "source": [
    "info_box = soup.find(class_= \"infobox vevent\")\n",
    "info_rows=info_box.find_all(\"tr\")\n",
    "#for row in info_rows:\n",
    "   # print(row.prettify())"
   ]
  },
  {
   "cell_type": "code",
   "execution_count": 5,
   "metadata": {},
   "outputs": [
    {
     "data": {
      "text/plain": [
       "bs4.element.ResultSet"
      ]
     },
     "execution_count": 5,
     "metadata": {},
     "output_type": "execute_result"
    }
   ],
   "source": [
    "type(info_rows)"
   ]
  },
  {
   "cell_type": "markdown",
   "metadata": {},
   "source": [
    "#### get the all info of movie"
   ]
  },
  {
   "cell_type": "code",
   "execution_count": 52,
   "metadata": {},
   "outputs": [
    {
     "data": {
      "text/plain": [
       "{'title': 'Toy Story 3',\n",
       " 'Directed by': 'Lee Unkrich',\n",
       " 'Produced by': 'Darla K. Anderson',\n",
       " 'Screenplay by': 'Michael Arndt',\n",
       " 'Story by': ['John Lasseter', 'Andrew Stanton', 'Lee Unkrich'],\n",
       " 'Starring': ['Tom Hanks',\n",
       "  'Tim Allen',\n",
       "  'Joan Cusack',\n",
       "  'Don Rickles',\n",
       "  'Wallace Shawn',\n",
       "  'John Ratzenberger',\n",
       "  'Estelle Harris',\n",
       "  'Blake Clark',\n",
       "  'Jeff Pidgeon',\n",
       "  'Ned Beatty',\n",
       "  'Michael Keaton',\n",
       "  'Jodi Benson',\n",
       "  'John Morris'],\n",
       " 'Music by': 'Randy Newman',\n",
       " 'Cinematography': ['Jeremy Lasky', 'Kim White'],\n",
       " 'Edited by': 'Ken Schretzmann',\n",
       " 'Production  company ': ['Walt Disney Pictures', 'Pixar Animation Studios'],\n",
       " 'Distributed by': 'Walt Disney Studios Motion Pictures',\n",
       " 'Release date': ['June 12, 2010  ( 2010-06-12 )  ( Taormina Film Fest )',\n",
       "  'June 18, 2010  ( 2010-06-18 )  (United States)'],\n",
       " 'Running time': '103 minutes [1]',\n",
       " 'Country': 'United States',\n",
       " 'Language': 'English',\n",
       " 'Budget': '$200 million [1]',\n",
       " 'Box office': '$1.067 billion [1]'}"
      ]
     },
     "execution_count": 52,
     "metadata": {},
     "output_type": "execute_result"
    }
   ],
   "source": [
    "def get_content_value(row_data):\n",
    "    if row_data.find('li'):\n",
    "        return [li.get_text(\" \" , strip = False).replace(\"\\xa0\" , \" \") for li in row_data.find_all(\"li\")]\n",
    "    else:\n",
    "        return row_data.get_text(\" \" , strip = False).replace(\"\\xa0\" , \" \") \n",
    "\n",
    "movie_info = {}\n",
    "\n",
    "for index,row in enumerate(info_rows):\n",
    "    if index == 0 :\n",
    "        movie_info['title'] = row.find(\"th\").get_text(\" \" , strip = False)\n",
    "    elif index == 1:\n",
    "        continue\n",
    "    else : \n",
    "        content_key = row.find(\"th\").get_text(\"\\n\" ,strip = False).replace(\"\\n\" ,\"  \") # or get_text(\" \" , strip = False)\n",
    "        content_value  = get_content_value(row.find(\"td\"))\n",
    "        movie_info[content_key] = content_value\n",
    "    \n",
    "movie_info\n",
    "    "
   ]
  },
  {
   "cell_type": "code",
   "execution_count": 53,
   "metadata": {},
   "outputs": [
    {
     "data": {
      "text/plain": [
       "17"
      ]
     },
     "execution_count": 53,
     "metadata": {},
     "output_type": "execute_result"
    }
   ],
   "source": [
    "len(movie_info)"
   ]
  },
  {
   "cell_type": "markdown",
   "metadata": {},
   "source": [
    "#### get info box for all movies"
   ]
  },
  {
   "cell_type": "code",
   "execution_count": 54,
   "metadata": {},
   "outputs": [],
   "source": [
    "r = requests.get(\"https://en.m.wikipedia.org/wiki/List_of_Walt_Disney_Pictures_films\")\n",
    "soup = bs(r.content)"
   ]
  },
  {
   "cell_type": "code",
   "execution_count": 55,
   "metadata": {},
   "outputs": [],
   "source": [
    "movies = soup.select(\".wikitable.sortable i a\")\n"
   ]
  },
  {
   "cell_type": "code",
   "execution_count": 56,
   "metadata": {},
   "outputs": [
    {
     "data": {
      "text/plain": [
       "'/wiki/Academy_Award_Review_of_Walt_Disney_Cartoons'"
      ]
     },
     "execution_count": 56,
     "metadata": {},
     "output_type": "execute_result"
    }
   ],
   "source": [
    "movies[0:10]\n",
    "movies[0]['href']"
   ]
  },
  {
   "cell_type": "code",
   "execution_count": 57,
   "metadata": {},
   "outputs": [
    {
     "data": {
      "text/plain": [
       "'Academy Award Review of Walt Disney Cartoons'"
      ]
     },
     "execution_count": 57,
     "metadata": {},
     "output_type": "execute_result"
    }
   ],
   "source": [
    "movies[0]['title']"
   ]
  },
  {
   "cell_type": "code",
   "execution_count": 58,
   "metadata": {},
   "outputs": [],
   "source": [
    "\n",
    "def get_content_value(row_data):\n",
    "    if row_data.find('li'):\n",
    "        return [li.get_text(\" \" , strip = True).replace(\"\\xa0\" , \" \") for li in row_data.find_all(\"li\")]   \n",
    "    elif row_data.find(\"br\"):     # solution for the long sentences get converted into list \n",
    "        return [text for text in row_data.stripped_strings]\n",
    "    else:\n",
    "        return row_data.get_text(\" \" , strip =True).replace(\"\\xa0\" , \" \") \n",
    "    \n",
    "#cleaning the references / tags [0] [1]\n",
    "def clean_tags (soup):\n",
    "    for tags in soup.find_all([\"sup\" , \"span\"]):    # removing wrt 'superscript tag'\n",
    "        tags.decompose()\n",
    "\n",
    "        \n",
    "def get_info_box(url):\n",
    "    \n",
    "    r=requests.get(url)  \n",
    "    soup = bs(r.content)    #create the beautifulsoup object \n",
    "    \n",
    "    clean_tags(soup)      #cleaning the references / tags [0] [1]\n",
    "       \n",
    "\n",
    "    info_box = soup.find(class_= \"infobox vevent\")  # common class_ for all movies \n",
    "    info_rows=info_box.find_all(\"tr\")\n",
    "    movie_info={}    # empty dict to stotre the movie info   \n",
    "    for index,row in enumerate(info_rows):\n",
    "        if index == 0 :\n",
    "            movie_info['title'] = row.find(\"th\").get_text(\" \" , strip = True)\n",
    "        else: \n",
    "            header = row.find(\"th\")  # some of the tables not have header \n",
    "            if header:\n",
    "                content_key = row.find(\"th\").get_text(\" \" , strip = True) # or get_text(\" \" , strip = Truee)\n",
    "                content_value  = get_content_value(row.find(\"td\"))\n",
    "                movie_info[content_key] = content_value\n",
    "            \n",
    "    return movie_info"
   ]
  },
  {
   "cell_type": "code",
   "execution_count": 59,
   "metadata": {},
   "outputs": [
    {
     "data": {
      "text/plain": [
       "{'title': 'One Little Indian',\n",
       " 'Directed by': 'Bernard McEveety',\n",
       " 'Produced by': 'Winston Hibler',\n",
       " 'Written by': 'Harry Spalding',\n",
       " 'Starring': ['James Garner',\n",
       "  'Vera Miles',\n",
       "  'Pat Hingle',\n",
       "  'Morgan Woodward',\n",
       "  'Jodie Foster'],\n",
       " 'Music by': 'Jerry Goldsmith',\n",
       " 'Cinematography': 'Charles F. Wheeler',\n",
       " 'Edited by': 'Robert Stafford',\n",
       " 'Production company': 'Walt Disney Productions',\n",
       " 'Distributed by': 'Buena Vista Distribution',\n",
       " 'Release date': ['June 20, 1973'],\n",
       " 'Running time': '90 Minutes',\n",
       " 'Country': 'United States',\n",
       " 'Language': 'English',\n",
       " 'Box office': '$2 million'}"
      ]
     },
     "execution_count": 59,
     "metadata": {},
     "output_type": "execute_result"
    }
   ],
   "source": [
    " get_info_box(\"https://en.m.wikipedia.org/wiki/One_Little_Indian_(film)\")"
   ]
  },
  {
   "cell_type": "code",
   "execution_count": 61,
   "metadata": {},
   "outputs": [
    {
     "name": "stdout",
     "output_type": "stream",
     "text": [
      "Zorro the Avenger\n",
      "'NoneType' object has no attribute 'find'\n",
      "The Sign of Zorro\n",
      "'NoneType' object has no attribute 'find'\n",
      "True-Life Adventures\n",
      "'NoneType' object has no attribute 'find_all'\n",
      "Luca\n",
      "'NoneType' object has no attribute 'find_all'\n"
     ]
    }
   ],
   "source": [
    "movies_info_list = []   # extracted movies info \n",
    "\n",
    "r = requests.get(\"https://en.m.wikipedia.org/wiki/List_of_Walt_Disney_Pictures_films\")\n",
    "soup = bs(r.content)\n",
    "movies = soup.select(\".wikitable.sortable i a\")\n",
    "\n",
    "base_path = \"https://en.m.wikipedia.org/\"      # base path of wikipedia\n",
    "\n",
    "for index , movie in enumerate(movies):\n",
    "  \n",
    "    try:\n",
    "        relative_path = movie['href']            #extracted path \n",
    "        complte_url  = base_path + relative_path      # base_path + extracted path \n",
    "        title = movie['title']        \n",
    "        movies_info_list . append(get_info_box(complte_url))  # extracting the  all info \n",
    "        \n",
    "    except Exception as  e:\n",
    "        print(movie.get_text())\n",
    "        print(e)"
   ]
  },
  {
   "cell_type": "code",
   "execution_count": 62,
   "metadata": {},
   "outputs": [
    {
     "data": {
      "text/plain": [
       "444"
      ]
     },
     "execution_count": 62,
     "metadata": {},
     "output_type": "execute_result"
    }
   ],
   "source": [
    "len(movies_info_list)"
   ]
  },
  {
   "cell_type": "code",
   "execution_count": 63,
   "metadata": {},
   "outputs": [
    {
     "data": {
      "text/plain": [
       "{'title': 'Scandalous John',\n",
       " 'Directed by': 'Robert Butler',\n",
       " 'Produced by': 'Bill Walsh',\n",
       " 'Written by': 'Bill Walsh',\n",
       " 'Starring': ['Brian Keith', 'Alfonso Arau', 'Michele Carey'],\n",
       " 'Cinematography': 'Frank V. Phillips',\n",
       " 'Edited by': 'Cotton Warburton',\n",
       " 'Production company': 'Walt Disney Productions',\n",
       " 'Distributed by': 'Buena Vista Distribution',\n",
       " 'Release date': 'June 22, 1971',\n",
       " 'Running time': '113 minutes',\n",
       " 'Country': 'United States',\n",
       " 'Language': 'English'}"
      ]
     },
     "execution_count": 63,
     "metadata": {},
     "output_type": "execute_result"
    }
   ],
   "source": [
    "movies_info_list[100]"
   ]
  },
  {
   "cell_type": "markdown",
   "metadata": {},
   "source": [
    "#### save / reload movoe data \n"
   ]
  },
  {
   "cell_type": "code",
   "execution_count": 44,
   "metadata": {},
   "outputs": [],
   "source": [
    "# to save the data\n",
    "import json\n",
    "\n",
    "def save_data(title,data):\n",
    "    with open (title ,\"w\" , encoding = \"utf-8\") as f:\n",
    "        json.dump(data,f , ensure_ascii = False, indent = 4 )"
   ]
  },
  {
   "cell_type": "code",
   "execution_count": 45,
   "metadata": {},
   "outputs": [],
   "source": [
    "#load data\n",
    "def load_data(title):\n",
    "     with open (title , encoding = \"utf-8\") as f:\n",
    "            return json.load(f)\n",
    "    "
   ]
  },
  {
   "cell_type": "code",
   "execution_count": 46,
   "metadata": {},
   "outputs": [],
   "source": [
    "#save_data(\"disney_raw_data.json\" , movies_info_list)"
   ]
  },
  {
   "cell_type": "markdown",
   "metadata": {},
   "source": [
    "## data cleaning"
   ]
  },
  {
   "cell_type": "markdown",
   "metadata": {},
   "source": [
    "#### subtasks\n",
    "\n",
    "-  ~~try to filtered out exception ~~\n",
    "- ~~running time to int ~~\n",
    "-  ~~remove tags [0] [1]~~\n",
    "- ~~solution for the long sentences ~~\n",
    "- ~~convert running time to int~~\n",
    "- make datetime object \n",
    "- Budget & box_office to int \n"
   ]
  },
  {
   "cell_type": "code",
   "execution_count": 192,
   "metadata": {},
   "outputs": [],
   "source": [
    "# save_data(\"disney_data_cleaned_1.json\" ,movies_info_list )  # not_fullycleaned "
   ]
  },
  {
   "cell_type": "code",
   "execution_count": 65,
   "metadata": {},
   "outputs": [],
   "source": [
    "movies_info =load_data(\"disney_data_cleaned_1.json\")"
   ]
  },
  {
   "cell_type": "code",
   "execution_count": 71,
   "metadata": {},
   "outputs": [
    {
     "data": {
      "text/plain": [
       "444"
      ]
     },
     "execution_count": 71,
     "metadata": {},
     "output_type": "execute_result"
    }
   ],
   "source": [
    "len(movies_info)"
   ]
  },
  {
   "cell_type": "code",
   "execution_count": 73,
   "metadata": {},
   "outputs": [
    {
     "data": {
      "text/plain": [
       "[{'title': 'Academy Award Review of',\n",
       "  'Production company': 'Walt Disney Productions',\n",
       "  'Release date': ['May 19, 1937'],\n",
       "  'Running time': '41 minutes (74 minutes 1966 release)',\n",
       "  'Country': 'United States',\n",
       "  'Language': 'English',\n",
       "  'Box office': '$45.472'}]"
      ]
     },
     "execution_count": 73,
     "metadata": {},
     "output_type": "execute_result"
    }
   ],
   "source": [
    "movies_info[0:1]"
   ]
  },
  {
   "cell_type": "code",
   "execution_count": 77,
   "metadata": {},
   "outputs": [
    {
     "data": {
      "text/plain": [
       "'n/a'"
      ]
     },
     "execution_count": 77,
     "metadata": {},
     "output_type": "execute_result"
    }
   ],
   "source": [
    "x= {\"b\":4}\n",
    "x.get(\"a\" ,\"n/a\")"
   ]
  },
  {
   "cell_type": "code",
   "execution_count": 87,
   "metadata": {},
   "outputs": [
    {
     "name": "stdout",
     "output_type": "stream",
     "text": [
      "['41 minutes (74 minutes 1966 release)', '83 minutes', '88 minutes', '126 minutes', '74 minutes', '64 minutes', '70 minutes', '42 minutes', '65 min.', '71 minutes', '75 minutes', '94 minutes', '73 minutes', '75 minutes', '82 minutes', '68 minutes', '74 minutes', '96 minutes', '75 minutes', '84 minutes', '77 minutes', '92 minutes', '69 minutes', '81 minutes', ['60 minutes (VHS version)', '71 minutes (original)'], '127 minutes', '92 minutes', '76 minutes', '75 minutes', '73 minutes', '85 minutes', '81 minutes', '70 minutes', '90 min.', '80 minutes', '75 minutes', '83 minutes', '83 minutes', '72 minutes', '97 minutes', '75 minutes', '104 minutes', '93 minutes', '105 minutes', '95 minutes', '97 minutes', '134 minutes', '69 minutes', '92 minutes', '126 minutes', '79 minutes', '97 minutes', '128 minutes', '74 minutes', '91 minutes', '105 minutes', '98 minutes', '130 minutes', '89 min.', '93 minutes', '67 minutes', '98 minutes', '100 minutes', '118 minutes', '103 Minutes', '110 minutes', '80 min.', '79 minutes', '91 minutes', '91 minutes', '97 minutes', '118 minutes', '139 minutes', '92 minutes', '131 mins.', '87 minutes', '116 minutes', '93 minutes', '110 min.', '110 min.', '131 minutes', '101 minutes', '108 minutes', '84 minutes', '78 minutes', '75 minutes', ['164 minutes', '(', 'Los Angeles', 'premiere)', '144 minutes', '(', 'New York City', 'premiere)', '118 minutes', '(General release)', '172 minutes', '(', \"Director's Cut\", ')'], '106 minutes', '110 min.', '99 minutes', '113 mins.', '108 minutes', '112 minutes', '93 minutes', '91 minutes', '93 minutes', '100 minutes', '100 minutes', '79 minutes', '96 minutes', '113 minutes', '89 minutes', ['118 minutes (1971 original version)', '139 minutes (1996 reconstruction version)'], '92 minutes', '88 minutes', '92 minutes', '87 minutes', '93 minutes', '93 min.', '93 minutes', '90 Minutes', '83 minutes', '96 minutes', '88 minutes', '89 minutes', '91 minutes', '93 mins', '92 minutes', '97 min.', '100 minutes', '100 minutes', '89 minutes', '91 minutes', '112 minutes', '115 minutes', '95 minutes', '91 min.', '95 minutes', '104 minutes', '74 minutes', '48 minutes', '77 minutes', '104 minutes', '128 minutes', '101 minutes', '94 minutes', '104 minutes', '90 minutes', '100 minutes', '88 minutes', '93 minutes', '98 minutes', '100 minutes', '112 minutes', '84 minutes', '98 minutes', '97 minutes', '114 minutes', '96 minutes', '100 minutes', '109 minutes', '83 minutes', '90 minutes', '107 minutes', '96 minutes', '103 minutes', '91 min', '95 minutes', '105 minutes', '113 minutes', '80 minutes', '101 minutes', '89 minutes', '74 minutes', '90 minutes', '89 minutes', '110 minutes', '74 minutes', '93 minutes', '84 minutes', '83 minutes', '69 minutes', '77 minutes', '107 minutes', '93 minutes', '88 minutes', '108 minutes', '84 minutes', '121 minutes', '89 minutes', '104 minutes', '90 minutes', '86 minutes', '84 minutes', '108 minutes', '107 minutes', '96 minutes', '98 minutes', '105 minutes', '108 minutes', '94 minutes', '106 minutes', '102 minutes', '88 minutes', '102 minutes', '102 minutes', '97 minutes', '111 minutes', '100 minutes', '96 minutes', '98 minutes', '78 minutes', '81 minutes', '108 minutes', '89 minutes', '99 minutes', '89 minutes', '81 minutes', '92 minutes', '100 minutes', '89 minutes', '79 minutes', '91 minutes', '101 minutes', '104 minutes', '103 minutes', '86 minutes', '105 minutes', '93 minutes', '92 minutes', '98 minutes', '95 minutes', '93 minutes', '87 minutes', '93 minutes', '87 minutes', '128 minutes', '86 minutes', '95 minutes', '114 minutes', '93 minutes', '83 minutes', '83 minutes', '88 minutes', '78 minutes', '112 minutes', '92 minutes', '74 minutes', '77 minutes', '82 minutes', '104 minutes', '113 minutes', '100 minutes', '78 minutes', '83 minutes', '96 minutes', '115 minutes', '86 minutes', '92 minutes', '99 minutes', '73 minutes', '128 minutes', '85 minutes', '88 minutes', '125 minutes', '96 minutes', '104 minutes', '95 minutes', '72 minutes', '75 minutes', '61 minutes', '117 minutes', '94 minutes', '100 minutes', '143 minutes', '97 minutes', '85 minutes', '86 minutes', '50 minutes', '74 minutes', '136 minutes', '89 minutes', '76 minutes', '40 minutes', '120 minutes', '84 minutes', '113 minutes', '115 minutes', '131 minutes', '100 minutes', '68 minutes', '95 minutes', '97 minutes', '101 minutes', '119 minutes', '100 minutes', '76 minutes', '120 minutes', '81 minutes', '143 minutes', '106 minutes', '40 minutes', '120 minutes', '99 minutes', '82 minutes', '117 minutes', '151 minutes', '104 minutes', '76 minutes', '92 minutes', '95 minutes', '94 minutes', '168 minutes', '111 minutes', '82 minutes', '87 minutes', '110 minutes', '107 minutes', '124 minutes', '74 minutes', '83 minutes', '150 minutes', '97 minutes', '91 minutes', '100 minutes', ['111 minutes (theatrical)', '120 minutes (extended/Disney+)'], '96 minutes', '99 minutes', ['76 minutes', '85 minutes'], '98 minutes', '97 minutes', ['99 minutes (UK)', '90 minutes (U.S.)'], '96 minutes', nan, '90 minutes', '101 minutes', nan, '101 minutes', '96 minutes', '88 minutes', '97 minutes', '108 minutes', ['104 minutes (Original cut)', '84 minutes (Disney cut)'], '116 minutes', '103 minutes', '109 minutes', '115 minutes', '74 minutes', '123 minutes', '108 minutes', '100 minutes', '101 minutes', '125 minutes', nan, '90 minutes', '88 minutes', '109 minutes', '89 minutes', '104 minutes', '137 minutes', '106 minutes', '69 minutes', '103 minutes', '95 minutes', '132 minutes', '77 minutes', '96 minutes', '93 minutes', '104 minutes', '87 minutes', '101 minutes', '130 minutes', '77 minutes', '104 minutes', '149 minutes', '92 minutes', '102 minutes', '125 minutes', '107 minutes', '77 minutes', '124 minutes', '97 minutes', '84 minutes', '127 minutes', '81 minutes', '102 minutes', '124 minutes', '129 minutes', '106 minutes', '82 minutes', '130 minutes', '94 minutes', '154 minutes', '94 minutes', '117 minutes', '108 minutes', '106 minutes', '98 minutes', '114 minutes', '97 minutes', '117 minutes', '103 minutes', '124 minutes', '107 minutes', '161 minutes', '80 minutes', '129 minutes', '76 minutes', '129 minutes', '102 minutes', nan, '162 minutes', '105 minutes', '109 minutes', '118 minutes', '104 minutes', '99 minutes', '112 minutes', '131 minutes', '112 minutes', '76 minutes', '128 minutes', '100 minutes', '118 minutes', '119 minutes', '104 minutes', '100 minutes', '103 minutes', '114 minutes', '99 minutes', '102 minutes', '107 minutes', '78 minutes', '89 minutes', '95 minutes', '160 minutes', '85 minutes', '100 minutes', '95 minutes', '115 minutes', '113 minutes', '119 minutes', '101 minutes', nan, nan, nan, nan, nan, nan, nan, nan, nan, nan, '306 minutes']\n"
     ]
    }
   ],
   "source": [
    "print ([x.get('Running time' , np.nan) for x in movies_info])"
   ]
  },
  {
   "cell_type": "markdown",
   "metadata": {},
   "source": [
    "## subtask:\n"
   ]
  },
  {
   "cell_type": "markdown",
   "metadata": {},
   "source": [
    "#### Subtask_1: \n",
    "\n",
    "- strip running time & convert in to the int "
   ]
  },
  {
   "cell_type": "code",
   "execution_count": 160,
   "metadata": {},
   "outputs": [],
   "source": [
    "\"80 minutes\"\n",
    "#list = movies_info\n",
    "\n",
    "def minutes_to_int(running_time):\n",
    "    \n",
    "    if  isinstance(running_time , list ):\n",
    "        return int (running_time[0].split( )[0])\n",
    "    \n",
    "    elif running_time == \"N/a\":\n",
    "        return None\n",
    "    else:\n",
    "        return int (running_time.split( )[0])\n",
    "    \n",
    "# applying \n",
    "for movie in movies_info:\n",
    "    movie['Running time in minutes(int)'] = minutes_to_int (movie.get( 'Running time' ,'N/a'))\n",
    "    "
   ]
  },
  {
   "cell_type": "code",
   "execution_count": 162,
   "metadata": {},
   "outputs": [
    {
     "name": "stdout",
     "output_type": "stream",
     "text": [
      "[41, 83, 88, 126, 74, 64, 70, 42, 65, 71, 75, 94, 73, 75, 82, 68, 74, 96, 75, 84, 77, 92, 69, 81, 60, 127, 92, 76, 75, 73, 85, 81, 70, 90, 80, 75, 83, 83, 72, 97, 75, 104, 93, 105, 95, 97, 134, 69, 92, 126, 79, 97, 128, 74, 91, 105, 98, 130, 89, 93, 67, 98, 100, 118, 103, 110, 80, 79, 91, 91, 97, 118, 139, 92, 131, 87, 116, 93, 110, 110, 131, 101, 108, 84, 78, 75, 164, 106, 110, 99, 113, 108, 112, 93, 91, 93, 100, 100, 79, 96, 113, 89, 118, 92, 88, 92, 87, 93, 93, 93, 90, 83, 96, 88, 89, 91, 93, 92, 97, 100, 100, 89, 91, 112, 115, 95, 91, 95, 104, 74, 48, 77, 104, 128, 101, 94, 104, 90, 100, 88, 93, 98, 100, 112, 84, 98, 97, 114, 96, 100, 109, 83, 90, 107, 96, 103, 91, 95, 105, 113, 80, 101, 89, 74, 90, 89, 110, 74, 93, 84, 83, 69, 77, 107, 93, 88, 108, 84, 121, 89, 104, 90, 86, 84, 108, 107, 96, 98, 105, 108, 94, 106, 102, 88, 102, 102, 97, 111, 100, 96, 98, 78, 81, 108, 89, 99, 89, 81, 92, 100, 89, 79, 91, 101, 104, 103, 86, 105, 93, 92, 98, 95, 93, 87, 93, 87, 128, 86, 95, 114, 93, 83, 83, 88, 78, 112, 92, 74, 77, 82, 104, 113, 100, 78, 83, 96, 115, 86, 92, 99, 73, 128, 85, 88, 125, 96, 104, 95, 72, 75, 61, 117, 94, 100, 143, 97, 85, 86, 50, 74, 136, 89, 76, 40, 120, 84, 113, 115, 131, 100, 68, 95, 97, 101, 119, 100, 76, 120, 81, 143, 106, 40, 120, 99, 82, 117, 151, 104, 76, 92, 95, 94, 168, 111, 82, 87, 110, 107, 124, 74, 83, 150, 97, 91, 100, 111, 96, 99, 76, 98, 97, 99, 96, None, 90, 101, None, 101, 96, 88, 97, 108, 104, 116, 103, 109, 115, 74, 123, 108, 100, 101, 125, None, 90, 88, 109, 89, 104, 137, 106, 69, 103, 95, 132, 77, 96, 93, 104, 87, 101, 130, 77, 104, 149, 92, 102, 125, 107, 77, 124, 97, 84, 127, 81, 102, 124, 129, 106, 82, 130, 94, 154, 94, 117, 108, 106, 98, 114, 97, 117, 103, 124, 107, 161, 80, 129, 76, 129, 102, None, 162, 105, 109, 118, 104, 99, 112, 131, 112, 76, 128, 100, 118, 119, 104, 100, 103, 114, 99, 102, 107, 78, 89, 95, 160, 85, 100, 95, 115, 113, 119, 101, None, None, None, None, None, None, None, None, None, None, 306]\n"
     ]
    }
   ],
   "source": [
    "print([x.get('Running time in minutes(int)') for x in movies_info])  # cleaned time data"
   ]
  },
  {
   "cell_type": "markdown",
   "metadata": {},
   "source": [
    "#### Subtask_2: \n",
    "\n",
    "- seperate the release date "
   ]
  },
  {
   "cell_type": "code",
   "execution_count": 190,
   "metadata": {},
   "outputs": [
    {
     "data": {
      "text/plain": [
       "[['May 19, 1937'],\n",
       " ['December 21, 1937 ( Carthay Circle Theatre , Los Angeles , CA , premiere)'],\n",
       " ['February 7, 1940 ( Center Theatre )', 'February 23, 1940 (United States)'],\n",
       " ['November 13, 1940'],\n",
       " ['June 20, 1941']]"
      ]
     },
     "execution_count": 190,
     "metadata": {},
     "output_type": "execute_result"
    }
   ],
   "source": [
    "[x.get( 'Release date', \"N/a\") for x in movies_info][0:5]"
   ]
  },
  {
   "cell_type": "code",
   "execution_count": 188,
   "metadata": {},
   "outputs": [],
   "source": [
    "# sspliting / extracting the date from the list\n",
    "def split_date(release_date):\n",
    "    if isinstance(release_date ,list):\n",
    "        entry =  release_date[0] \n",
    "        entry  = entry.split(\"(\")[0]\n",
    "        return entry\n",
    "        # return release_date[0]..split(\"(\")[0]\n",
    "    elif release_date == \"N/a\":\n",
    "        return None \n",
    "    else:\n",
    "        return release_date\n",
    "    \n",
    "#apply \n",
    "for movie in movies_info:\n",
    "    movie['Release Date Edited'] = split_date(movie.get(\"Release date\" , \"N/a\"))"
   ]
  },
  {
   "cell_type": "code",
   "execution_count": 287,
   "metadata": {},
   "outputs": [
    {
     "data": {
      "text/plain": [
       "['May 19, 1937',\n",
       " 'December 21, 1937 ',\n",
       " 'February 7, 1940 ',\n",
       " 'November 13, 1940',\n",
       " 'June 20, 1941',\n",
       " 'October 23, 1941 ',\n",
       " 'August 9, 1942 ',\n",
       " 'August 24, 1942 ',\n",
       " 'July 17, 1943',\n",
       " 'December 21, 1944 ']"
      ]
     },
     "execution_count": 287,
     "metadata": {},
     "output_type": "execute_result"
    }
   ],
   "source": [
    " [x.get( 'Release Date Edited') for x in movies_info] [0:10]"
   ]
  },
  {
   "cell_type": "code",
   "execution_count": 256,
   "metadata": {},
   "outputs": [
    {
     "data": {
      "text/plain": [
       "True"
      ]
     },
     "execution_count": 256,
     "metadata": {},
     "output_type": "execute_result"
    }
   ],
   "source": [
    "None in [x.get( 'Release Date Edited') for x in movies_info]"
   ]
  },
  {
   "cell_type": "markdown",
   "metadata": {},
   "source": [
    "#### Subtask_3: \n",
    "\n",
    "- convert datetime to datetime object"
   ]
  },
  {
   "cell_type": "raw",
   "metadata": {},
   "source": [
    "from datetime import datetime"
   ]
  },
  {
   "cell_type": "raw",
   "metadata": {},
   "source": [
    "def dt_to_dt  (date_str):\n",
    "    fmts = [\"%B %d, %Y\" , \"%d %B %Y\"]\n",
    "    for fmt in fmts:\n",
    "        try :\n",
    "            if date_str == None:\n",
    "                return None \n",
    "            else :\n",
    "                 return datetime.strptime(date_str , fmt)\n",
    "        except :\n",
    "            pass\n",
    "    return None \n",
    "\n",
    "for movie in movies_info:\n",
    "    movie[\"Movie Release Date\"] = dt_to_dt(movie.get('Release Date Edited' ))"
   ]
  },
  {
   "cell_type": "code",
   "execution_count": 283,
   "metadata": {},
   "outputs": [],
   "source": [
    "# delete the raw data "
   ]
  },
  {
   "cell_type": "raw",
   "metadata": {},
   "source": [
    "for movie  in movies_info:\n",
    "    del movie['Running time']\n",
    "    del movie['Release date']\n",
    "    del movie[\"Movie Release Date\"]"
   ]
  },
  {
   "cell_type": "markdown",
   "metadata": {},
   "source": [
    "#### save file "
   ]
  },
  {
   "cell_type": "code",
   "execution_count": 286,
   "metadata": {},
   "outputs": [],
   "source": [
    "# save_data(\"Disney Dataset full edited.json\" , movies_info)"
   ]
  },
  {
   "cell_type": "code",
   "execution_count": null,
   "metadata": {},
   "outputs": [],
   "source": []
  }
 ],
 "metadata": {
  "kernelspec": {
   "display_name": "Python 3",
   "language": "python",
   "name": "python3"
  },
  "language_info": {
   "codemirror_mode": {
    "name": "ipython",
    "version": 3
   },
   "file_extension": ".py",
   "mimetype": "text/x-python",
   "name": "python",
   "nbconvert_exporter": "python",
   "pygments_lexer": "ipython3",
   "version": "3.7.4"
  },
  "toc": {
   "base_numbering": "",
   "nav_menu": {},
   "number_sections": false,
   "sideBar": true,
   "skip_h1_title": true,
   "title_cell": "Table of Contents",
   "title_sidebar": "Contents",
   "toc_cell": false,
   "toc_position": {},
   "toc_section_display": true,
   "toc_window_display": false
  }
 },
 "nbformat": 4,
 "nbformat_minor": 2
}
